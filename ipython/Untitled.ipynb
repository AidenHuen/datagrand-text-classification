{
 "cells": [
  {
   "cell_type": "code",
   "execution_count": 1,
   "metadata": {},
   "outputs": [],
   "source": [
    "import gc\n",
    "import numpy as np\n",
    "import pandas as pd\n",
    "from time import time\n",
    "from pprint import pprint\n",
    "from scipy.sparse.linalg import svds\n",
    "from sklearn.feature_extraction.text import TfidfVectorizer\n",
    "from sklearn.decomposition import LatentDirichletAllocation"
   ]
  },
  {
   "cell_type": "code",
   "execution_count": 2,
   "metadata": {},
   "outputs": [
    {
     "name": "stdout",
     "output_type": "stream",
     "text": [
      "Load data...\n",
      "The number of samples is: 4999\n",
      "The number of classes is: 19\n"
     ]
    },
    {
     "data": {
      "text/plain": [
       "7"
      ]
     },
     "execution_count": 2,
     "metadata": {},
     "output_type": "execute_result"
    }
   ],
   "source": [
    "# Load data\n",
    "# ============================================================================\n",
    "\n",
    "print(\"Load data...\")\n",
    "data_path = \"../raw_data/train_demo.csv\"\n",
    "data = pd.read_csv(data_path)\n",
    "\n",
    "X_text = data['word_seg']\n",
    "y = data['class'] - 1\n",
    "num_classes = max(y) + 1\n",
    "print(\"The number of samples is: %d\" % len(X_text))\n",
    "print(\"The number of classes is: %d\" % num_classes)\n",
    "\n",
    "del data\n",
    "gc.collect()"
   ]
  },
  {
   "cell_type": "code",
   "execution_count": 3,
   "metadata": {},
   "outputs": [
    {
     "name": "stdout",
     "output_type": "stream",
     "text": [
      "Vectorizer's hyper-parameters:\n",
      "{'max_df': 0.9,\n",
      " 'max_features': None,\n",
      " 'min_df': 3,\n",
      " 'ngram_range': (1, 2),\n",
      " 'sublinear_tf': True}\n",
      "Extract features...\n",
      "Done in 16.345 seconds.\n",
      "Extract finished! ( ^ _ ^ ) V\n",
      "The number of features is 190239\n"
     ]
    }
   ],
   "source": [
    "# Extract feature vectors\n",
    "# ============================================================================\n",
    "\n",
    "# Extractor's hyper-parameters\n",
    "vect_params = {\n",
    "    'ngram_range': (1, 2),\n",
    "    'max_df': 0.9,\n",
    "    'min_df': 3,\n",
    "    'max_features': None,\n",
    "    'sublinear_tf': True\n",
    "}\n",
    "print(\"Vectorizer's hyper-parameters:\")\n",
    "pprint(vect_params)\n",
    "\n",
    "# Initialize feature extractor\n",
    "vectorizer = TfidfVectorizer(**vect_params)\n",
    "\n",
    "print(\"Extract features...\")\n",
    "t0_extract = time()\n",
    "X = vectorizer.fit_transform(X_text)\n",
    "print(\"Done in %.3f seconds.\" % (time() - t0_extract))\n",
    "print(\"Extract finished! ( ^ _ ^ ) V\")\n",
    "\n",
    "# The number of features\n",
    "num_feats = len(vectorizer.get_feature_names())\n",
    "print(\"The number of features is %d\" % num_feats)"
   ]
  },
  {
   "cell_type": "code",
   "execution_count": 4,
   "metadata": {},
   "outputs": [
    {
     "ename": "MemoryError",
     "evalue": "",
     "output_type": "error",
     "traceback": [
      "\u001b[1;31m---------------------------------------------------------------------------\u001b[0m",
      "\u001b[1;31mMemoryError\u001b[0m                               Traceback (most recent call last)",
      "\u001b[1;32m<ipython-input-4-3b8f3056b392>\u001b[0m in \u001b[0;36m<module>\u001b[1;34m()\u001b[0m\n\u001b[1;32m----> 1\u001b[1;33m \u001b[0mu\u001b[0m\u001b[1;33m,\u001b[0m \u001b[0ms\u001b[0m\u001b[1;33m,\u001b[0m \u001b[0mvt\u001b[0m \u001b[1;33m=\u001b[0m \u001b[0msvds\u001b[0m\u001b[1;33m(\u001b[0m\u001b[0mX\u001b[0m\u001b[1;33m,\u001b[0m \u001b[0mk\u001b[0m\u001b[1;33m=\u001b[0m\u001b[1;36m3000\u001b[0m\u001b[1;33m)\u001b[0m\u001b[1;33m\u001b[0m\u001b[0m\n\u001b[0m",
      "\u001b[1;32mD:\\Anaconda3\\envs\\py3_for_prac\\lib\\site-packages\\scipy\\sparse\\linalg\\eigen\\arpack\\arpack.py\u001b[0m in \u001b[0;36msvds\u001b[1;34m(A, k, ncv, tol, which, v0, maxiter, return_singular_vectors)\u001b[0m\n\u001b[0;32m   1840\u001b[0m         \u001b[1;32melse\u001b[0m\u001b[1;33m:\u001b[0m\u001b[1;33m\u001b[0m\u001b[0m\n\u001b[0;32m   1841\u001b[0m             \u001b[0mularge\u001b[0m \u001b[1;33m=\u001b[0m \u001b[0meigvec\u001b[0m\u001b[1;33m[\u001b[0m\u001b[1;33m:\u001b[0m\u001b[1;33m,\u001b[0m \u001b[0mabove_cutoff\u001b[0m\u001b[1;33m]\u001b[0m\u001b[1;33m\u001b[0m\u001b[0m\n\u001b[1;32m-> 1842\u001b[1;33m             \u001b[0mvhlarge\u001b[0m \u001b[1;33m=\u001b[0m \u001b[0m_herm\u001b[0m\u001b[1;33m(\u001b[0m\u001b[0mX_matmat\u001b[0m\u001b[1;33m(\u001b[0m\u001b[0mularge\u001b[0m\u001b[1;33m)\u001b[0m \u001b[1;33m/\u001b[0m \u001b[0mslarge\u001b[0m\u001b[1;33m)\u001b[0m \u001b[1;32mif\u001b[0m \u001b[0mreturn_singular_vectors\u001b[0m \u001b[1;33m!=\u001b[0m \u001b[1;34m'u'\u001b[0m \u001b[1;32melse\u001b[0m \u001b[1;32mNone\u001b[0m\u001b[1;33m\u001b[0m\u001b[0m\n\u001b[0m\u001b[0;32m   1843\u001b[0m \u001b[1;33m\u001b[0m\u001b[0m\n\u001b[0;32m   1844\u001b[0m         \u001b[0mu\u001b[0m \u001b[1;33m=\u001b[0m \u001b[0m_augmented_orthonormal_cols\u001b[0m\u001b[1;33m(\u001b[0m\u001b[0mularge\u001b[0m\u001b[1;33m,\u001b[0m \u001b[0mnsmall\u001b[0m\u001b[1;33m)\u001b[0m \u001b[1;32mif\u001b[0m \u001b[0mularge\u001b[0m \u001b[1;32mis\u001b[0m \u001b[1;32mnot\u001b[0m \u001b[1;32mNone\u001b[0m \u001b[1;32melse\u001b[0m \u001b[1;32mNone\u001b[0m\u001b[1;33m\u001b[0m\u001b[0m\n",
      "\u001b[1;31mMemoryError\u001b[0m: "
     ]
    }
   ],
   "source": [
    "u, s, vt = svds(X, k=3000)"
   ]
  },
  {
   "cell_type": "code",
   "execution_count": null,
   "metadata": {},
   "outputs": [],
   "source": []
  }
 ],
 "metadata": {
  "kernelspec": {
   "display_name": "Python 3",
   "language": "python",
   "name": "python3"
  },
  "language_info": {
   "codemirror_mode": {
    "name": "ipython",
    "version": 3
   },
   "file_extension": ".py",
   "mimetype": "text/x-python",
   "name": "python",
   "nbconvert_exporter": "python",
   "pygments_lexer": "ipython3",
   "version": "3.6.5"
  }
 },
 "nbformat": 4,
 "nbformat_minor": 2
}
