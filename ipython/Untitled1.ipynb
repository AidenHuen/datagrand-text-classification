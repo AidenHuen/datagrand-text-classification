{
 "cells": [
  {
   "cell_type": "code",
   "execution_count": 1,
   "metadata": {},
   "outputs": [
    {
     "name": "stderr",
     "output_type": "stream",
     "text": [
      "D:\\Anaconda3\\envs\\py3_for_prac\\lib\\site-packages\\gensim\\utils.py:1209: UserWarning: detected Windows; aliasing chunkize to chunkize_serial\n",
      "  warnings.warn(\"detected Windows; aliasing chunkize to chunkize_serial\")\n"
     ]
    }
   ],
   "source": [
    "import gc\n",
    "from time import time\n",
    "from gensim.models.word2vec import Word2Vec"
   ]
  },
  {
   "cell_type": "code",
   "execution_count": 2,
   "metadata": {},
   "outputs": [],
   "source": [
    "def load_word_samples(train_data_file, test_data_file):\n",
    "    \"\"\"Load training and testing data, get the words of each sample in two dataset and return.\"\"\"\n",
    "    train_lines = open(train_data_file, 'r', encoding='utf-8').read().splitlines()[1:]\n",
    "    test_lines = open(test_data_file, 'r', encoding='utf-8').read().splitlines()[1:]\n",
    "\n",
    "    train_word_samples = [line.split(',')[2] for line in train_lines]\n",
    "    test_word_samples = [line.split(',')[2] for line in test_lines]\n",
    "    word_samples = train_word_samples + test_word_samples\n",
    "\n",
    "    word_samples = [word_sample.split() for word_sample in word_samples]\n",
    "\n",
    "    return word_samples"
   ]
  },
  {
   "cell_type": "code",
   "execution_count": 3,
   "metadata": {},
   "outputs": [],
   "source": [
    "def batch_iter(data, batch_size=5000):\n",
    "    \"\"\"Generate batch iterator.\"\"\"\n",
    "    data_size = len(data)\n",
    "    num_batches = ((data_size - 1) // batch_size) + 1\n",
    "    for batch_num in range(num_batches):\n",
    "        start_index = batch_num * batch_size\n",
    "        end_index = min((batch_num + 1) * batch_size, data_size)\n",
    "        yield data[start_index:end_index]"
   ]
  },
  {
   "cell_type": "code",
   "execution_count": 4,
   "metadata": {},
   "outputs": [
    {
     "name": "stdout",
     "output_type": "stream",
     "text": [
      "Loading data...\n",
      "The total number of samples is: 9998\n"
     ]
    }
   ],
   "source": [
    "# Load data\n",
    "# =========================================================================\n",
    "\n",
    "print(\"Loading data...\")\n",
    "train_data_file = \"../raw_data/train_demo.csv\"\n",
    "test_data_file = \"../raw_data/test_demo.csv\"\n",
    "sentences = load_word_samples(train_data_file, test_data_file)\n",
    "print(\"The total number of samples is: %d\" % len(sentences))"
   ]
  },
  {
   "cell_type": "code",
   "execution_count": 5,
   "metadata": {},
   "outputs": [
    {
     "name": "stdout",
     "output_type": "stream",
     "text": [
      "The total number of words is: 247294\n"
     ]
    },
    {
     "data": {
      "text/plain": [
       "0"
      ]
     },
     "execution_count": 5,
     "metadata": {},
     "output_type": "execute_result"
    }
   ],
   "source": [
    "# Calculate the size of vocabulary\n",
    "# =========================================================================\n",
    "\n",
    "words = []\n",
    "for sentence in sentences:\n",
    "    words.extend(sentence)\n",
    "print(\"The total number of words is: %d\" % len(set(words)))\n",
    "\n",
    "del words\n",
    "gc.collect()"
   ]
  },
  {
   "cell_type": "code",
   "execution_count": 6,
   "metadata": {},
   "outputs": [
    {
     "name": "stdout",
     "output_type": "stream",
     "text": [
      "Word2Vec(vocab=247294, size=300, alpha=0.025)\n",
      "9998\n",
      "30\n",
      "Start training...\n",
      "Done in 377.101 seconds!\n",
      "Training Finish! ^_^\n"
     ]
    }
   ],
   "source": [
    "# Train and save word2vec model\n",
    "# =========================================================================\n",
    "\n",
    "# Initialize word2vec model\n",
    "model = Word2Vec(size=300, min_count=1, sg=0, iter=30, workers=16, seed=42)\n",
    "model.build_vocab(sentences)\n",
    "print(model)\n",
    "print(model.corpus_count)\n",
    "print(model.epochs)\n",
    "\n",
    "print(\"Start training...\")\n",
    "t0 = time()\n",
    "batches = batch_iter(sentences, batch_size=50000)\n",
    "for batch in batches:\n",
    "    model.train(batch, total_examples=len(batch), epochs=model.epochs)\n",
    "print(\"Done in %.3f seconds!\" % (time() - t0))\n",
    "print(\"Training Finish! ^_^\")\n",
    "\n",
    "model.wv.save(\"../word_vectors/demo-gensim-word-300d.bin\")\n",
    "model.wv.save_word2vec_format(\"../word_vectors/demo-gensim-word-300d.txt\", binary=False)"
   ]
  },
  {
   "cell_type": "code",
   "execution_count": null,
   "metadata": {},
   "outputs": [],
   "source": []
  }
 ],
 "metadata": {
  "kernelspec": {
   "display_name": "Python 3",
   "language": "python",
   "name": "python3"
  },
  "language_info": {
   "codemirror_mode": {
    "name": "ipython",
    "version": 3
   },
   "file_extension": ".py",
   "mimetype": "text/x-python",
   "name": "python",
   "nbconvert_exporter": "python",
   "pygments_lexer": "ipython3",
   "version": "3.6.5"
  }
 },
 "nbformat": 4,
 "nbformat_minor": 2
}
